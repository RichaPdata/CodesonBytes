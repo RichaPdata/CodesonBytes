{
 "cells": [
  {
   "cell_type": "raw",
   "id": "7745d81e-b5b9-4748-99f4-51c199d2f6cc",
   "metadata": {},
   "source": [
    "Data Science Internship @CodesonBytes"
   ]
  },
  {
   "cell_type": "markdown",
   "id": "81c98c73-d862-4ace-9c52-2b6b498c33f8",
   "metadata": {},
   "source": [
    "## Task 1 (Phase 1) "
   ]
  },
  {
   "cell_type": "markdown",
   "id": "53f2bcbc-f280-4d58-9694-f35ceb669d0e",
   "metadata": {},
   "source": [
    "To Create a csv dataset using Python , Pandas and any Public API"
   ]
  },
  {
   "cell_type": "code",
   "execution_count": 1,
   "id": "c1d91325-15cf-4f56-acbf-0da044bec29c",
   "metadata": {},
   "outputs": [],
   "source": [
    "import pandas as pd"
   ]
  },
  {
   "cell_type": "code",
   "execution_count": 2,
   "id": "ddbc90a2-9d08-4fcb-847c-334fa0b770c1",
   "metadata": {},
   "outputs": [],
   "source": [
    "import requests"
   ]
  },
  {
   "cell_type": "code",
   "execution_count": 4,
   "id": "31139722-a062-4eca-add6-f43bdc9dc193",
   "metadata": {},
   "outputs": [],
   "source": [
    "api_url = 'https://dummyjson.com/products'\n",
    "response = requests.get(api_url)\n",
    "\n",
    "if response.status_code == 200:\n",
    "    data = response.json()\n",
    "else:\n",
    "    print(f\"Failed to fetch data from the API. Status code: {response.status_code}\")\n",
    "    data = []"
   ]
  },
  {
   "cell_type": "markdown",
   "id": "ad24458d-1ff1-497a-877c-2585ec0d66ef",
   "metadata": {},
   "source": [
    "Convert data to a Pandas DataFrame"
   ]
  },
  {
   "cell_type": "code",
   "execution_count": 5,
   "id": "471dce08-40bc-4142-a987-15c04d2b823f",
   "metadata": {},
   "outputs": [],
   "source": [
    "df = pd.DataFrame(data)"
   ]
  },
  {
   "cell_type": "markdown",
   "id": "d6e99346-2ee4-4484-b478-1ff77bdd3a71",
   "metadata": {},
   "source": [
    "Saving Dataframe to a CSV File"
   ]
  },
  {
   "cell_type": "code",
   "execution_count": 7,
   "id": "738a49fa-aff2-485f-9f34-f97b5bbbbb8a",
   "metadata": {},
   "outputs": [],
   "source": [
    "dummyjson_products = 'dataset.csv'\n",
    "df.to_csv(dummyjson_products, index=False)"
   ]
  },
  {
   "cell_type": "code",
   "execution_count": null,
   "id": "056ef36f-4342-4d1b-98a9-c10d590755d9",
   "metadata": {},
   "outputs": [],
   "source": []
  }
 ],
 "metadata": {
  "kernelspec": {
   "display_name": "Python 3 (ipykernel)",
   "language": "python",
   "name": "python3"
  },
  "language_info": {
   "codemirror_mode": {
    "name": "ipython",
    "version": 3
   },
   "file_extension": ".py",
   "mimetype": "text/x-python",
   "name": "python",
   "nbconvert_exporter": "python",
   "pygments_lexer": "ipython3",
   "version": "3.9.13"
  }
 },
 "nbformat": 4,
 "nbformat_minor": 5
}
