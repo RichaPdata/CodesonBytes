{
 "cells": [
  {
   "cell_type": "code",
   "execution_count": null,
   "id": "9bf49ee5-2d11-4427-bae6-aee260eaaa70",
   "metadata": {},
   "outputs": [],
   "source": [
    "Data Science Internship @CodesonBytes"
   ]
  },
  {
   "cell_type": "markdown",
   "id": "ed3fa4eb-b089-4087-92d6-715a5fa8eee9",
   "metadata": {},
   "source": [
    "## Task 2 (Phase 1) "
   ]
  },
  {
   "cell_type": "raw",
   "id": "c230ae0e-d43d-430b-b683-cef019021a4f",
   "metadata": {},
   "source": [
    "Task was to Clean the dataset by replacing missing values & removing outliers."
   ]
  },
  {
   "cell_type": "code",
   "execution_count": 15,
   "id": "a3b53f56-77dc-400a-90db-882826d2fb48",
   "metadata": {},
   "outputs": [],
   "source": [
    "#Importing the necessary libraries\n",
    "import pandas as pd\n",
    "import seaborn"
   ]
  },
  {
   "cell_type": "code",
   "execution_count": 16,
   "id": "37ba5ab6-6a7d-4318-b83c-6e0a7d50b6b9",
   "metadata": {},
   "outputs": [],
   "source": [
    "#Load the dataset\n",
    "data = pd.read_csv('dataset - netflix1.csv')"
   ]
  },
  {
   "cell_type": "code",
   "execution_count": 17,
   "id": "ccfebc78-5b18-413a-8ced-755579534259",
   "metadata": {},
   "outputs": [],
   "source": [
    "# Check for missing values\n",
    "missing_values = data.isnull().sum()"
   ]
  },
  {
   "cell_type": "code",
   "execution_count": 18,
   "id": "e2f45bf0-7dbe-4932-a068-14b9fc6fad64",
   "metadata": {},
   "outputs": [
    {
     "name": "stdout",
     "output_type": "stream",
     "text": [
      "show_id         0\n",
      "type            0\n",
      "title           0\n",
      "director        0\n",
      "country         0\n",
      "date_added      0\n",
      "release_year    0\n",
      "rating          0\n",
      "duration        0\n",
      "listed_in       0\n",
      "dtype: int64\n"
     ]
    }
   ],
   "source": [
    "# Display the missing values\n",
    "print(missing_values)"
   ]
  },
  {
   "cell_type": "code",
   "execution_count": 19,
   "id": "896ac3c9-2830-4341-a2f1-b06eda63982d",
   "metadata": {},
   "outputs": [],
   "source": [
    "# Remove outliers for all columns\n",
    "def remove_outliers_iqr(data, columns):\n",
    "    for column in columns:\n",
    "        Q1 = data[column].quantile(0.25)\n",
    "        Q3 = data[column].quantile(0.75)\n",
    "        IQR = Q3 - Q1\n",
    "        lower_bound = Q1 - 1.5 * IQR\n",
    "        upper_bound = Q3 + 1.5 * IQR\n",
    "        data = data[(data[column]>= lower_bound) & (data[column] <= upper_bound)]\n",
    "        return data\n",
    "    columns_to_check + [\"show_id\", \"type\", \"director\", \"country\", \"date_added\", \"release_year\", \"rating\", \"duration\", \"listed_in\"]\n",
    "    data = remove_outliers_iqr(data, columns_to_check)"
   ]
  },
  {
   "cell_type": "code",
   "execution_count": 20,
   "id": "9ceeaf5b-dd4d-42f5-8092-212ad6d30fee",
   "metadata": {},
   "outputs": [
    {
     "name": "stdout",
     "output_type": "stream",
     "text": [
      "cleaned data is pribted in the terminal and saved as correspond file in the same folder\n",
      "     show_id     type                             title         director  \\\n",
      "0         s1    Movie              Dick Johnson Is Dead  Kirsten Johnson   \n",
      "1         s3  TV Show                         Ganglands  Julien Leclercq   \n",
      "2         s6  TV Show                     Midnight Mass    Mike Flanagan   \n",
      "3        s14    Movie  Confessions of an Invisible Girl    Bruno Garotti   \n",
      "4         s8    Movie                           Sankofa     Haile Gerima   \n",
      "...      ...      ...                               ...              ...   \n",
      "8785   s8797  TV Show                        Yunus Emre        Not Given   \n",
      "8786   s8798  TV Show                         Zak Storm        Not Given   \n",
      "8787   s8801  TV Show                Zindagi Gulzar Hai        Not Given   \n",
      "8788   s8784  TV Show                              Yoko        Not Given   \n",
      "8789   s8786  TV Show                               YOM        Not Given   \n",
      "\n",
      "            country  date_added  release_year rating   duration  \\\n",
      "0     United States   9/25/2021          2020  PG-13     90 min   \n",
      "1            France   9/24/2021          2021  TV-MA   1 Season   \n",
      "2     United States   9/24/2021          2021  TV-MA   1 Season   \n",
      "3            Brazil   9/22/2021          2021  TV-PG     91 min   \n",
      "4     United States   9/24/2021          1993  TV-MA    125 min   \n",
      "...             ...         ...           ...    ...        ...   \n",
      "8785         Turkey   1/17/2017          2016  TV-PG  2 Seasons   \n",
      "8786  United States   9/13/2018          2016  TV-Y7  3 Seasons   \n",
      "8787       Pakistan  12/15/2016          2012  TV-PG   1 Season   \n",
      "8788       Pakistan   6/23/2018          2016   TV-Y   1 Season   \n",
      "8789       Pakistan    6/7/2018          2016  TV-Y7   1 Season   \n",
      "\n",
      "                                              listed_in  \n",
      "0                                         Documentaries  \n",
      "1     Crime TV Shows, International TV Shows, TV Act...  \n",
      "2                    TV Dramas, TV Horror, TV Mysteries  \n",
      "3                    Children & Family Movies, Comedies  \n",
      "4      Dramas, Independent Movies, International Movies  \n",
      "...                                                 ...  \n",
      "8785                  International TV Shows, TV Dramas  \n",
      "8786                                           Kids' TV  \n",
      "8787  International TV Shows, Romantic TV Shows, TV ...  \n",
      "8788                                           Kids' TV  \n",
      "8789                                           Kids' TV  \n",
      "\n",
      "[8790 rows x 10 columns]\n"
     ]
    }
   ],
   "source": [
    "# Save the cleaned dataset\n",
    "data.to_csv('cleaned2_dataset.csv', index=False)\n",
    "print(\"cleaned data is pribted in the terminal and saved as correspond file in the same folder\")\n",
    "print(data)"
   ]
  },
  {
   "cell_type": "code",
   "execution_count": null,
   "id": "31cb9c16-22b2-4569-a4a7-99b52aa9f2ef",
   "metadata": {},
   "outputs": [],
   "source": []
  }
 ],
 "metadata": {
  "kernelspec": {
   "display_name": "Python 3 (ipykernel)",
   "language": "python",
   "name": "python3"
  },
  "language_info": {
   "codemirror_mode": {
    "name": "ipython",
    "version": 3
   },
   "file_extension": ".py",
   "mimetype": "text/x-python",
   "name": "python",
   "nbconvert_exporter": "python",
   "pygments_lexer": "ipython3",
   "version": "3.9.13"
  }
 },
 "nbformat": 4,
 "nbformat_minor": 5
}
