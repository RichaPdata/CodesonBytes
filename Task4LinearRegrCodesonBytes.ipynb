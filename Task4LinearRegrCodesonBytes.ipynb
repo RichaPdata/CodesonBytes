{
 "cells": [
  {
   "cell_type": "markdown",
   "id": "21c358b0-39b9-4004-9632-8c2cd42a9977",
   "metadata": {},
   "source": [
    "## Data Science Internship @ CodesonBytes"
   ]
  },
  {
   "cell_type": "markdown",
   "id": "a6f3984e-8015-4aa2-8069-dd67ddac2676",
   "metadata": {},
   "source": [
    "Phase 2, Task 4- Train a simple Linear Regressing model on the given dataset and predict the output."
   ]
  },
  {
   "cell_type": "code",
   "execution_count": 1,
   "id": "fdcc926c-2143-470a-8453-625e9db31f87",
   "metadata": {},
   "outputs": [],
   "source": [
    "#Importing the necessary libraries\n",
    "\n",
    "import pandas as pd\n",
    "import numpy as np\n",
    "import matplotlib.pyplot as plt\n",
    "import seaborn as sns\n",
    "\n",
    "import requests\n",
    "from bs4 import BeautifulSoup\n",
    "\n",
    "from sklearn.linear_model import LinearRegression\n",
    "from sklearn.metrics import mean_squared_error, r2_score\n",
    "\n",
    "import warnings\n",
    "warnings.filterwarnings(\"ignore\")\n",
    "%matplotlib inline"
   ]
  },
  {
   "cell_type": "code",
   "execution_count": 2,
   "id": "3381dde6-baf1-44df-a967-e56c59e029e7",
   "metadata": {},
   "outputs": [],
   "source": [
    "#Loading the Dataset\n",
    "\n",
    "# URL of the HTML page\n",
    "trainset_url = \"https://docs.google.com/spreadsheets/d/e/2PACX-1vRTK2NvcndgPX41Czu6Ft2Ho_nE-z50BgTqdzwFW0rsJ2nvyNLe2DoIg1COzUbgw80oaRBjfy5-WtFk/pubhtml\"\n",
    "\n",
    "testset_url = \"https://docs.google.com/spreadsheets/d/e/2PACX-1vRyvZ7lknwiSghK9aen1SaTEYoN3JS40rrGLpcyrsVZy1tB2T4gn6Y3-cdzPUFCPMmmqREWefW3kl4_/pubhtml\"\n",
    "\n",
    "# Send a GET request to the URL\n",
    "train_response_n = requests.get(trainset_url)\n",
    "test_response_n = requests.get(testset_url)\n",
    "\n",
    "# Parse the HTML content\n",
    "train_s = BeautifulSoup(train_response_n.text, 'html.parser')\n",
    "test_s = BeautifulSoup(test_response_n.text, 'html.parser')\n",
    "\n",
    "# Find the table in the HTML\n",
    "train_tab = train_s.find('table')\n",
    "test_tab = test_s.find('table')\n",
    "\n",
    "# Read the HTML table into a DataFrame\n",
    "train_dataset = pd.read_html(str(train_tab))[0]\n",
    "test_dataset = pd.read_html(str(test_tab))[0]"
   ]
  },
  {
   "cell_type": "code",
   "execution_count": 3,
   "id": "8b67c1f0-8a22-494e-9d9a-d2b3c6d9ac82",
   "metadata": {},
   "outputs": [
    {
     "data": {
      "text/html": [
       "<div>\n",
       "<style scoped>\n",
       "    .dataframe tbody tr th:only-of-type {\n",
       "        vertical-align: middle;\n",
       "    }\n",
       "\n",
       "    .dataframe tbody tr th {\n",
       "        vertical-align: top;\n",
       "    }\n",
       "\n",
       "    .dataframe thead th {\n",
       "        text-align: right;\n",
       "    }\n",
       "</style>\n",
       "<table border=\"1\" class=\"dataframe\">\n",
       "  <thead>\n",
       "    <tr style=\"text-align: right;\">\n",
       "      <th></th>\n",
       "      <th>Unnamed: 0</th>\n",
       "      <th>Unnamed: 1</th>\n",
       "      <th>Unnamed: 2</th>\n",
       "    </tr>\n",
       "  </thead>\n",
       "  <tbody>\n",
       "    <tr>\n",
       "      <th>0</th>\n",
       "      <td>1</td>\n",
       "      <td>x</td>\n",
       "      <td>y</td>\n",
       "    </tr>\n",
       "    <tr>\n",
       "      <th>1</th>\n",
       "      <td>2</td>\n",
       "      <td>24</td>\n",
       "      <td>21.54945196</td>\n",
       "    </tr>\n",
       "    <tr>\n",
       "      <th>2</th>\n",
       "      <td>3</td>\n",
       "      <td>50</td>\n",
       "      <td>47.46446305</td>\n",
       "    </tr>\n",
       "    <tr>\n",
       "      <th>3</th>\n",
       "      <td>4</td>\n",
       "      <td>15</td>\n",
       "      <td>17.21865634</td>\n",
       "    </tr>\n",
       "    <tr>\n",
       "      <th>4</th>\n",
       "      <td>5</td>\n",
       "      <td>38</td>\n",
       "      <td>36.58639803</td>\n",
       "    </tr>\n",
       "  </tbody>\n",
       "</table>\n",
       "</div>"
      ],
      "text/plain": [
       "   Unnamed: 0 Unnamed: 1   Unnamed: 2\n",
       "0           1          x            y\n",
       "1           2         24  21.54945196\n",
       "2           3         50  47.46446305\n",
       "3           4         15  17.21865634\n",
       "4           5         38  36.58639803"
      ]
     },
     "execution_count": 3,
     "metadata": {},
     "output_type": "execute_result"
    }
   ],
   "source": [
    "#Displaying the first few rows of the train data\n",
    "train_dataset.head()"
   ]
  },
  {
   "cell_type": "code",
   "execution_count": 4,
   "id": "c1fd3f5e-942b-4790-b86f-79227eae2396",
   "metadata": {},
   "outputs": [
    {
     "data": {
      "text/html": [
       "<div>\n",
       "<style scoped>\n",
       "    .dataframe tbody tr th:only-of-type {\n",
       "        vertical-align: middle;\n",
       "    }\n",
       "\n",
       "    .dataframe tbody tr th {\n",
       "        vertical-align: top;\n",
       "    }\n",
       "\n",
       "    .dataframe thead th {\n",
       "        text-align: right;\n",
       "    }\n",
       "</style>\n",
       "<table border=\"1\" class=\"dataframe\">\n",
       "  <thead>\n",
       "    <tr style=\"text-align: right;\">\n",
       "      <th></th>\n",
       "      <th>Unnamed: 1</th>\n",
       "      <th>Unnamed: 2</th>\n",
       "    </tr>\n",
       "  </thead>\n",
       "  <tbody>\n",
       "    <tr>\n",
       "      <th>0</th>\n",
       "      <td>x</td>\n",
       "      <td>y</td>\n",
       "    </tr>\n",
       "    <tr>\n",
       "      <th>1</th>\n",
       "      <td>24</td>\n",
       "      <td>21.54945196</td>\n",
       "    </tr>\n",
       "    <tr>\n",
       "      <th>2</th>\n",
       "      <td>50</td>\n",
       "      <td>47.46446305</td>\n",
       "    </tr>\n",
       "    <tr>\n",
       "      <th>3</th>\n",
       "      <td>15</td>\n",
       "      <td>17.21865634</td>\n",
       "    </tr>\n",
       "    <tr>\n",
       "      <th>4</th>\n",
       "      <td>38</td>\n",
       "      <td>36.58639803</td>\n",
       "    </tr>\n",
       "  </tbody>\n",
       "</table>\n",
       "</div>"
      ],
      "text/plain": [
       "  Unnamed: 1   Unnamed: 2\n",
       "0          x            y\n",
       "1         24  21.54945196\n",
       "2         50  47.46446305\n",
       "3         15  17.21865634\n",
       "4         38  36.58639803"
      ]
     },
     "execution_count": 4,
     "metadata": {},
     "output_type": "execute_result"
    }
   ],
   "source": [
    "# Removing the first column from the train data:\n",
    "remove_first__column_train = train_dataset.iloc[:, 1:]\n",
    "remove_first__column_train.head()"
   ]
  },
  {
   "cell_type": "code",
   "execution_count": 5,
   "id": "16038b1d-6c59-4cba-a36c-e8c6d56d1bb7",
   "metadata": {},
   "outputs": [
    {
     "data": {
      "text/html": [
       "<div>\n",
       "<style scoped>\n",
       "    .dataframe tbody tr th:only-of-type {\n",
       "        vertical-align: middle;\n",
       "    }\n",
       "\n",
       "    .dataframe tbody tr th {\n",
       "        vertical-align: top;\n",
       "    }\n",
       "\n",
       "    .dataframe thead th {\n",
       "        text-align: right;\n",
       "    }\n",
       "</style>\n",
       "<table border=\"1\" class=\"dataframe\">\n",
       "  <thead>\n",
       "    <tr style=\"text-align: right;\">\n",
       "      <th></th>\n",
       "      <th>Unnamed: 0</th>\n",
       "      <th>Unnamed: 1</th>\n",
       "      <th>Unnamed: 2</th>\n",
       "    </tr>\n",
       "  </thead>\n",
       "  <tbody>\n",
       "    <tr>\n",
       "      <th>0</th>\n",
       "      <td>1</td>\n",
       "      <td>x</td>\n",
       "      <td>y</td>\n",
       "    </tr>\n",
       "    <tr>\n",
       "      <th>1</th>\n",
       "      <td>2</td>\n",
       "      <td>77</td>\n",
       "      <td>79.77515201</td>\n",
       "    </tr>\n",
       "    <tr>\n",
       "      <th>2</th>\n",
       "      <td>3</td>\n",
       "      <td>21</td>\n",
       "      <td>23.17727887</td>\n",
       "    </tr>\n",
       "    <tr>\n",
       "      <th>3</th>\n",
       "      <td>4</td>\n",
       "      <td>22</td>\n",
       "      <td>25.60926156</td>\n",
       "    </tr>\n",
       "    <tr>\n",
       "      <th>4</th>\n",
       "      <td>5</td>\n",
       "      <td>20</td>\n",
       "      <td>17.85738813</td>\n",
       "    </tr>\n",
       "  </tbody>\n",
       "</table>\n",
       "</div>"
      ],
      "text/plain": [
       "   Unnamed: 0 Unnamed: 1   Unnamed: 2\n",
       "0           1          x            y\n",
       "1           2         77  79.77515201\n",
       "2           3         21  23.17727887\n",
       "3           4         22  25.60926156\n",
       "4           5         20  17.85738813"
      ]
     },
     "execution_count": 5,
     "metadata": {},
     "output_type": "execute_result"
    }
   ],
   "source": [
    "#Displaying the first few rows of the test data\n",
    "test_dataset.head()"
   ]
  },
  {
   "cell_type": "code",
   "execution_count": 6,
   "id": "98f20dec-78f9-4de4-a3b3-aa8fb67cff44",
   "metadata": {},
   "outputs": [
    {
     "data": {
      "text/html": [
       "<div>\n",
       "<style scoped>\n",
       "    .dataframe tbody tr th:only-of-type {\n",
       "        vertical-align: middle;\n",
       "    }\n",
       "\n",
       "    .dataframe tbody tr th {\n",
       "        vertical-align: top;\n",
       "    }\n",
       "\n",
       "    .dataframe thead th {\n",
       "        text-align: right;\n",
       "    }\n",
       "</style>\n",
       "<table border=\"1\" class=\"dataframe\">\n",
       "  <thead>\n",
       "    <tr style=\"text-align: right;\">\n",
       "      <th></th>\n",
       "      <th>Unnamed: 1</th>\n",
       "      <th>Unnamed: 2</th>\n",
       "    </tr>\n",
       "  </thead>\n",
       "  <tbody>\n",
       "    <tr>\n",
       "      <th>0</th>\n",
       "      <td>x</td>\n",
       "      <td>y</td>\n",
       "    </tr>\n",
       "    <tr>\n",
       "      <th>1</th>\n",
       "      <td>77</td>\n",
       "      <td>79.77515201</td>\n",
       "    </tr>\n",
       "    <tr>\n",
       "      <th>2</th>\n",
       "      <td>21</td>\n",
       "      <td>23.17727887</td>\n",
       "    </tr>\n",
       "    <tr>\n",
       "      <th>3</th>\n",
       "      <td>22</td>\n",
       "      <td>25.60926156</td>\n",
       "    </tr>\n",
       "    <tr>\n",
       "      <th>4</th>\n",
       "      <td>20</td>\n",
       "      <td>17.85738813</td>\n",
       "    </tr>\n",
       "  </tbody>\n",
       "</table>\n",
       "</div>"
      ],
      "text/plain": [
       "  Unnamed: 1   Unnamed: 2\n",
       "0          x            y\n",
       "1         77  79.77515201\n",
       "2         21  23.17727887\n",
       "3         22  25.60926156\n",
       "4         20  17.85738813"
      ]
     },
     "execution_count": 6,
     "metadata": {},
     "output_type": "execute_result"
    }
   ],
   "source": [
    "# Removing the first column from the test data:\n",
    "remove_first__column_test = test_dataset.iloc[:, 1:]\n",
    "remove_first__column_test.head()"
   ]
  },
  {
   "cell_type": "code",
   "execution_count": 7,
   "id": "22f7029e-83f6-4fda-bc95-3ae3e46dcb29",
   "metadata": {},
   "outputs": [],
   "source": [
    "#Save the DataFrame to a CSV file\n",
    "remove_first__column_train.to_csv('traindata.csv', index=False, header=False)\n",
    "remove_first__column_test.to_csv('testdata.csv', index=False, header=False)"
   ]
  },
  {
   "cell_type": "code",
   "execution_count": 11,
   "id": "1cad88cc-fbce-40a0-a6ed-c9919ec285e2",
   "metadata": {},
   "outputs": [],
   "source": [
    "#Loading the CSV data files\n",
    "train_dn = pd.read_csv(\"traindata.csv\")\n",
    "test_dn = pd.read_csv(\"testdata.csv\")"
   ]
  },
  {
   "cell_type": "code",
   "execution_count": 12,
   "id": "b9863ad5-009f-4581-9412-37fba066dc4a",
   "metadata": {},
   "outputs": [
    {
     "data": {
      "text/html": [
       "<div>\n",
       "<style scoped>\n",
       "    .dataframe tbody tr th:only-of-type {\n",
       "        vertical-align: middle;\n",
       "    }\n",
       "\n",
       "    .dataframe tbody tr th {\n",
       "        vertical-align: top;\n",
       "    }\n",
       "\n",
       "    .dataframe thead th {\n",
       "        text-align: right;\n",
       "    }\n",
       "</style>\n",
       "<table border=\"1\" class=\"dataframe\">\n",
       "  <thead>\n",
       "    <tr style=\"text-align: right;\">\n",
       "      <th></th>\n",
       "      <th>x</th>\n",
       "      <th>y</th>\n",
       "    </tr>\n",
       "  </thead>\n",
       "  <tbody>\n",
       "    <tr>\n",
       "      <th>0</th>\n",
       "      <td>24.0</td>\n",
       "      <td>21.549452</td>\n",
       "    </tr>\n",
       "    <tr>\n",
       "      <th>1</th>\n",
       "      <td>50.0</td>\n",
       "      <td>47.464463</td>\n",
       "    </tr>\n",
       "    <tr>\n",
       "      <th>2</th>\n",
       "      <td>15.0</td>\n",
       "      <td>17.218656</td>\n",
       "    </tr>\n",
       "    <tr>\n",
       "      <th>3</th>\n",
       "      <td>38.0</td>\n",
       "      <td>36.586398</td>\n",
       "    </tr>\n",
       "    <tr>\n",
       "      <th>4</th>\n",
       "      <td>87.0</td>\n",
       "      <td>87.288984</td>\n",
       "    </tr>\n",
       "  </tbody>\n",
       "</table>\n",
       "</div>"
      ],
      "text/plain": [
       "      x          y\n",
       "0  24.0  21.549452\n",
       "1  50.0  47.464463\n",
       "2  15.0  17.218656\n",
       "3  38.0  36.586398\n",
       "4  87.0  87.288984"
      ]
     },
     "execution_count": 12,
     "metadata": {},
     "output_type": "execute_result"
    }
   ],
   "source": [
    "# Displaying the first five columns of the train data:\n",
    "train_dn.head()"
   ]
  },
  {
   "cell_type": "code",
   "execution_count": 13,
   "id": "790de0a4-2ec3-4650-9396-93092b331729",
   "metadata": {},
   "outputs": [
    {
     "data": {
      "text/plain": [
       "(700, 2)"
      ]
     },
     "execution_count": 13,
     "metadata": {},
     "output_type": "execute_result"
    }
   ],
   "source": [
    "# Checking the shape of the train data:\n",
    "train_dn.shape"
   ]
  },
  {
   "cell_type": "code",
   "execution_count": 14,
   "id": "f59b7bee-dde5-4d94-b79b-23d548eb673d",
   "metadata": {},
   "outputs": [
    {
     "data": {
      "text/plain": [
       "(300, 2)"
      ]
     },
     "execution_count": 14,
     "metadata": {},
     "output_type": "execute_result"
    }
   ],
   "source": [
    "# Checking the shape of the test data:\n",
    "test_dn.shape"
   ]
  },
  {
   "cell_type": "code",
   "execution_count": 15,
   "id": "f1dc040b-3320-4e9d-ae96-2ecab3da1e07",
   "metadata": {},
   "outputs": [
    {
     "name": "stdout",
     "output_type": "stream",
     "text": [
      "<class 'pandas.core.frame.DataFrame'>\n",
      "RangeIndex: 700 entries, 0 to 699\n",
      "Data columns (total 2 columns):\n",
      " #   Column  Non-Null Count  Dtype  \n",
      "---  ------  --------------  -----  \n",
      " 0   x       700 non-null    float64\n",
      " 1   y       699 non-null    float64\n",
      "dtypes: float64(2)\n",
      "memory usage: 11.1 KB\n"
     ]
    }
   ],
   "source": [
    "# Checking for null values in the train data:\n",
    "train_dn.info()"
   ]
  },
  {
   "cell_type": "code",
   "execution_count": 16,
   "id": "5df32dd3-9a5f-4965-a393-95474d153b3d",
   "metadata": {},
   "outputs": [],
   "source": [
    "# Removing the null values from the train dataset:\n",
    "train_dn = train_dn.dropna(subset=['y'])"
   ]
  },
  {
   "cell_type": "code",
   "execution_count": 17,
   "id": "218dc660-27c2-42bd-b839-a70f39abf568",
   "metadata": {},
   "outputs": [
    {
     "name": "stdout",
     "output_type": "stream",
     "text": [
      "<class 'pandas.core.frame.DataFrame'>\n",
      "Int64Index: 699 entries, 0 to 699\n",
      "Data columns (total 2 columns):\n",
      " #   Column  Non-Null Count  Dtype  \n",
      "---  ------  --------------  -----  \n",
      " 0   x       699 non-null    float64\n",
      " 1   y       699 non-null    float64\n",
      "dtypes: float64(2)\n",
      "memory usage: 16.4 KB\n"
     ]
    }
   ],
   "source": [
    "# Checking the data after removing the null values:\n",
    "train_dn.info()"
   ]
  },
  {
   "cell_type": "code",
   "execution_count": 18,
   "id": "127f08f2-59f5-45ec-8ed5-81ee0224b49e",
   "metadata": {},
   "outputs": [
    {
     "name": "stdout",
     "output_type": "stream",
     "text": [
      "<class 'pandas.core.frame.DataFrame'>\n",
      "RangeIndex: 300 entries, 0 to 299\n",
      "Data columns (total 2 columns):\n",
      " #   Column  Non-Null Count  Dtype  \n",
      "---  ------  --------------  -----  \n",
      " 0   x       300 non-null    int64  \n",
      " 1   y       300 non-null    float64\n",
      "dtypes: float64(1), int64(1)\n",
      "memory usage: 4.8 KB\n"
     ]
    }
   ],
   "source": [
    "# Checking for null values in the test data:\n",
    "test_dn.info()"
   ]
  },
  {
   "cell_type": "markdown",
   "id": "17a56e1e-cd79-4866-a364-d1fb6e40793b",
   "metadata": {},
   "source": [
    "Extracting the features (x) and target variable (y) from both datasets."
   ]
  },
  {
   "cell_type": "code",
   "execution_count": 19,
   "id": "6f42712d-4592-4e7c-ab83-e995841e8dcd",
   "metadata": {},
   "outputs": [],
   "source": [
    "x_train_dn = train_dn.drop('y', axis=1)\n",
    "y_train_dn = train_dn['y']\n",
    "\n",
    "x_test_dn = test_dn.drop('y', axis=1)\n",
    "y_test_dn = test_dn['y']"
   ]
  },
  {
   "cell_type": "markdown",
   "id": "0a13b658-f2de-4925-8d2d-68bc08ba1e66",
   "metadata": {},
   "source": [
    "Training a Linear Regression Model"
   ]
  },
  {
   "cell_type": "code",
   "execution_count": 21,
   "id": "f7752a53-bc34-4fa6-a9d3-444b5abbf3f5",
   "metadata": {},
   "outputs": [
    {
     "data": {
      "text/plain": [
       "LinearRegression()"
      ]
     },
     "execution_count": 21,
     "metadata": {},
     "output_type": "execute_result"
    }
   ],
   "source": [
    "# Create a linear regression model\n",
    "model_lr = LinearRegression()\n",
    "\n",
    "# Train the model\n",
    "model_lr.fit(x_train_dn, y_train_dn)"
   ]
  },
  {
   "cell_type": "code",
   "execution_count": 22,
   "id": "e1a24e39-52cd-4212-ac3e-f5c66756e47f",
   "metadata": {},
   "outputs": [],
   "source": [
    "# Making predictions on the test data\n",
    "predictions_lr = model_lr.predict(x_test_dn)"
   ]
  },
  {
   "cell_type": "markdown",
   "id": "3e3f1605-b69f-4fec-b0c4-581974f9ece3",
   "metadata": {},
   "source": [
    "Evaluating the Model"
   ]
  },
  {
   "cell_type": "code",
   "execution_count": 24,
   "id": "c3c6481e-d16b-431b-b27b-35e5cd8bf4f9",
   "metadata": {},
   "outputs": [
    {
     "name": "stdout",
     "output_type": "stream",
     "text": [
      "Mean Squared Error: 9.432922192039305\n",
      "R-squared: 0.9888014444327563\n"
     ]
    }
   ],
   "source": [
    "# Calculate Mean Squared Error\n",
    "mse_dn = mean_squared_error(y_test_dn, predictions_lr)\n",
    "\n",
    "# Calculate R-squared\n",
    "r2_dn = r2_score(y_test_dn, predictions_lr)\n",
    "\n",
    "print(f\"Mean Squared Error: {mse_dn}\")\n",
    "print(f\"R-squared: {r2_dn}\")"
   ]
  },
  {
   "cell_type": "code",
   "execution_count": 27,
   "id": "591573f9-8d03-4aeb-8c54-46d0ece36cc5",
   "metadata": {},
   "outputs": [
    {
     "name": "stdout",
     "output_type": "stream",
     "text": [
      "Collecting prettytable\n",
      "  Downloading prettytable-3.9.0-py3-none-any.whl (27 kB)\n",
      "Requirement already satisfied: wcwidth in /Users/varun/opt/anaconda3/lib/python3.9/site-packages (from prettytable) (0.2.5)\n",
      "Installing collected packages: prettytable\n",
      "Successfully installed prettytable-3.9.0\n",
      "Note: you may need to restart the kernel to use updated packages.\n"
     ]
    }
   ],
   "source": [
    "pip install prettytable"
   ]
  },
  {
   "cell_type": "code",
   "execution_count": 28,
   "id": "096c88b8-1d9c-48cb-a126-75fd95912835",
   "metadata": {},
   "outputs": [
    {
     "name": "stdout",
     "output_type": "stream",
     "text": [
      "+--------------------+--------------------+\n",
      "|       Metric       |       Value        |\n",
      "+--------------------+--------------------+\n",
      "| Mean Squared Error | 9.432922192039305  |\n",
      "|     R-squared      | 0.9888014444327563 |\n",
      "+--------------------+--------------------+\n"
     ]
    }
   ],
   "source": [
    "# Printing in table format:\n",
    "from prettytable import PrettyTable\n",
    "\n",
    "# Create a PrettyTable\n",
    "table_dn = PrettyTable([\"Metric\", \"Value\"])\n",
    "\n",
    "# Add data to the table\n",
    "table_dn.add_row([\"Mean Squared Error\", mse_dn])\n",
    "table_dn.add_row([\"R-squared\", r2_dn])\n",
    "\n",
    "# Print the table\n",
    "print(table_dn)\n"
   ]
  },
  {
   "cell_type": "code",
   "execution_count": null,
   "id": "b4130282-61d1-4c4f-af23-d41fabc21877",
   "metadata": {},
   "outputs": [],
   "source": []
  },
  {
   "cell_type": "markdown",
   "id": "7917dd23-9ebc-45b9-9c98-970210dff4e3",
   "metadata": {},
   "source": [
    "Thank You!"
   ]
  }
 ],
 "metadata": {
  "kernelspec": {
   "display_name": "Python 3 (ipykernel)",
   "language": "python",
   "name": "python3"
  },
  "language_info": {
   "codemirror_mode": {
    "name": "ipython",
    "version": 3
   },
   "file_extension": ".py",
   "mimetype": "text/x-python",
   "name": "python",
   "nbconvert_exporter": "python",
   "pygments_lexer": "ipython3",
   "version": "3.9.13"
  }
 },
 "nbformat": 4,
 "nbformat_minor": 5
}
